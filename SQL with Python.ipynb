{
 "cells": [
  {
   "cell_type": "markdown",
   "source": [
    "# Using SQL with Python"
   ],
   "metadata": {}
  },
  {
   "cell_type": "markdown",
   "source": [
    "As always, our first step is to make the necessary imports.  "
   ],
   "metadata": {}
  },
  {
   "cell_type": "code",
   "execution_count": 1,
   "source": [
    "# Standard data analysis packages\r\n",
    "import numpy as np\r\n",
    "import pandas as pd\r\n",
    "\r\n",
    "# Packages for working with SQL Server\r\n",
    "import sqlalchemy as db\r\n",
    "import pyodbc"
   ],
   "outputs": [],
   "metadata": {}
  },
  {
   "cell_type": "markdown",
   "source": [
    "Now that we have that out of the way, we can use SQLAlchemy to create an **engine** object.  An engine is an object that represents a relational database and is the primary object we interact with to work with a database.  We create an engine using the following syntax:\r\n",
    "\r\n",
    "```python\r\n",
    "engine = db.create_engine(connection_str)\r\n",
    "```\r\n",
    "\r\n",
    "The connection string is a URL the engine uses to gain access to the database you're connecting to.  It can take on a number of forms, depending on which method you're using to establish a connection.  For the sake of simplicity (and/or sanity), I'll simply include the general forms of the connection strings and note that some Googling may be required to configure your connection string.\r\n",
    "\r\n",
    "```python\r\n",
    "# Hostname connection\r\n",
    "conn_str = f\"{db_type}+{db_connector}://{user_id}:{password}@{host}:{port}/{db_name}\"\r\n",
    "\r\n",
    "# DSN connection\r\n",
    "conn_str = f\"{db_type}+{db_connector}://{user_id}:{password}@{dsn}\"\r\n",
    "```\r\n",
    "\r\n",
    "\r\n",
    "| Dialect | db_type Value |\r\n",
    "| -- | -- |\r\n",
    "| MySQL |  `mysql` | \r\n",
    "| PostgreSQL | `postgresql` |\r\n",
    "| SQLite | `sqlite` |\r\n",
    "| Oracle | `oracle` |\r\n",
    "| Microsoft SQL | `mssql` |\r\n",
    "\r\n",
    "| Dialect | db_connector Library |\r\n",
    "| -- | -- |\r\n",
    "| MySQL |  `pymysql`, `mysqldb` | \r\n",
    "| PostgreSQL | `psycopg2`, `pg8000` |\r\n",
    "| SQLite | None needed |\r\n",
    "| Oracle | `cx_oracle` |\r\n",
    "| Microsoft SQL | `pymssql`, `pyodbc` |\r\n",
    "\r\n",
    "When using either a hostname connection or a DSN connection, you simply pass conn_str to create_engine().  I'll be connecting to an instance of SQL Server on my local machine using Windows authentification, so my connection string will be a little different."
   ],
   "metadata": {}
  },
  {
   "cell_type": "code",
   "execution_count": 2,
   "source": [
    "# Variables for connection string parameters\r\n",
    "db_type = \"mssql\"\r\n",
    "db_connector = \"pyodbc\"\r\n",
    "server_name = \"MATT-PC\"\r\n",
    "db_name = \"AP\"\r\n",
    "\r\n",
    "# Creating connection string\r\n",
    "conn_str = f\"{db_type}+{db_connector}://{server_name}/{db_name}?trusted_connection=yes&driver=ODBC+Driver+17+for+SQL+Server\"\r\n",
    "\r\n",
    "# Create engine and connection objects\r\n",
    "engine = db.create_engine(conn_str)\r\n",
    "conn = engine.connect()"
   ],
   "outputs": [],
   "metadata": {}
  },
  {
   "cell_type": "markdown",
   "source": [
    "After you've successfully created for an engine, you may want to create a simple class to streamline the processs.  The class should be stored in a separate script so you can simply import it as needed.  You can password protect it to add a safeguard..."
   ],
   "metadata": {}
  },
  {
   "cell_type": "code",
   "execution_count": 3,
   "source": [
    "engine.table_names()"
   ],
   "outputs": [
    {
     "output_type": "stream",
     "name": "stderr",
     "text": [
      "<ipython-input-3-d72bc75a6b62>:1: SADeprecationWarning: The Engine.table_names() method is deprecated and will be removed in a future release.  Please refer to Inspector.get_table_names(). (deprecated since: 1.4)\n",
      "  engine.table_names()\n"
     ]
    },
    {
     "output_type": "execute_result",
     "data": {
      "text/plain": [
       "['ContactUpdates',\n",
       " 'GLAccounts',\n",
       " 'InvoiceArchive',\n",
       " 'InvoiceLineItems',\n",
       " 'Invoices',\n",
       " 'sysdiagrams',\n",
       " 'Terms',\n",
       " 'Vendors']"
      ]
     },
     "metadata": {},
     "execution_count": 3
    }
   ],
   "metadata": {}
  },
  {
   "cell_type": "code",
   "execution_count": 4,
   "source": [
    "import time\r\n",
    "\r\n",
    "class sql_connector():\r\n",
    "    def __init__(self):    \r\n",
    "        self.stored_password = \"my_password\"\r\n",
    "        self.input_password = input(\"Please enter password:\\n\\t\")\r\n",
    "\r\n",
    "    def create_connector(self):\r\n",
    "        dots = \"...\"\r\n",
    "        print(\"Validating password\", end=\"\")\r\n",
    "        for dot in dots:\r\n",
    "            time.sleep(1)\r\n",
    "            print(dot, end=\"\")\r\n",
    "            \r\n",
    "        time.sleep(1)\r\n",
    "            \r\n",
    "        if self.input_password == self.stored_password:\r\n",
    "            print(\"\\n\\nConnection established\")\r\n",
    "            conn_str = f\"{db_type}+{db_connector}://{server_name}/{db_name}?trusted_connection=yes&driver=ODBC+Driver+17+for+SQL+Server\"\r\n",
    "            \r\n",
    "            engine = db.create_engine(conn_str)\r\n",
    "            conn = engine.connect()\r\n",
    "            \r\n",
    "            return engine, conn\r\n",
    "        else:\r\n",
    "            raise Exception(\"Incorrect password.\")    "
   ],
   "outputs": [],
   "metadata": {}
  },
  {
   "cell_type": "code",
   "execution_count": 5,
   "source": [
    "connector = sql_connector()\r\n",
    "engine, conn = connector.create_connector()"
   ],
   "outputs": [
    {
     "output_type": "stream",
     "name": "stdout",
     "text": [
      "Validating password..."
     ]
    },
    {
     "output_type": "error",
     "ename": "Exception",
     "evalue": "Incorrect password.",
     "traceback": [
      "\u001b[1;31m---------------------------------------------------------------------------\u001b[0m",
      "\u001b[1;31mException\u001b[0m                                 Traceback (most recent call last)",
      "\u001b[1;32m<ipython-input-5-3c4d98df86b5>\u001b[0m in \u001b[0;36m<module>\u001b[1;34m\u001b[0m\n\u001b[0;32m      1\u001b[0m \u001b[0mconnector\u001b[0m \u001b[1;33m=\u001b[0m \u001b[0msql_connector\u001b[0m\u001b[1;33m(\u001b[0m\u001b[1;33m)\u001b[0m\u001b[1;33m\u001b[0m\u001b[1;33m\u001b[0m\u001b[0m\n\u001b[1;32m----> 2\u001b[1;33m \u001b[0mengine\u001b[0m\u001b[1;33m,\u001b[0m \u001b[0mconn\u001b[0m \u001b[1;33m=\u001b[0m \u001b[0mconnector\u001b[0m\u001b[1;33m.\u001b[0m\u001b[0mcreate_connector\u001b[0m\u001b[1;33m(\u001b[0m\u001b[1;33m)\u001b[0m\u001b[1;33m\u001b[0m\u001b[1;33m\u001b[0m\u001b[0m\n\u001b[0m",
      "\u001b[1;32m<ipython-input-4-be149d98c0e1>\u001b[0m in \u001b[0;36mcreate_connector\u001b[1;34m(self)\u001b[0m\n\u001b[0;32m     24\u001b[0m             \u001b[1;32mreturn\u001b[0m \u001b[0mengine\u001b[0m\u001b[1;33m,\u001b[0m \u001b[0mconn\u001b[0m\u001b[1;33m\u001b[0m\u001b[1;33m\u001b[0m\u001b[0m\n\u001b[0;32m     25\u001b[0m         \u001b[1;32melse\u001b[0m\u001b[1;33m:\u001b[0m\u001b[1;33m\u001b[0m\u001b[1;33m\u001b[0m\u001b[0m\n\u001b[1;32m---> 26\u001b[1;33m             \u001b[1;32mraise\u001b[0m \u001b[0mException\u001b[0m\u001b[1;33m(\u001b[0m\u001b[1;34m\"Incorrect password.\"\u001b[0m\u001b[1;33m)\u001b[0m\u001b[1;33m\u001b[0m\u001b[1;33m\u001b[0m\u001b[0m\n\u001b[0m",
      "\u001b[1;31mException\u001b[0m: Incorrect password."
     ]
    }
   ],
   "metadata": {}
  },
  {
   "cell_type": "code",
   "execution_count": 6,
   "source": [
    "connector = sql_connector()\r\n",
    "engine, conn = connector.create_connector()"
   ],
   "outputs": [
    {
     "output_type": "stream",
     "name": "stdout",
     "text": [
      "Validating password...\n",
      "\n",
      "Connection established\n"
     ]
    }
   ],
   "metadata": {}
  },
  {
   "cell_type": "markdown",
   "source": [
    "...but it's only safe until someone accesses the script containing the class.  For added protection, consider using a package such as keyring or cryptography to secure your passwords.  Their usage is outside the scope of this post, however.\r\n",
    "\r\n",
    "\r\n",
    "After creating a connection object you have a few options.  You can write queries and use Panda's `read_sql()` function to store the results in a DataFrame, as seen below."
   ],
   "metadata": {}
  },
  {
   "cell_type": "code",
   "execution_count": 4,
   "source": [
    "# Execute a query and store results in a dataframe\r\n",
    "query = \"\"\"\r\n",
    "SELECT TOP 5 *\r\n",
    "FROM AP..Vendors\r\n",
    "\"\"\"\r\n",
    "\r\n",
    "vendors = pd.read_sql(query, conn)\r\n",
    "vendors"
   ],
   "outputs": [
    {
     "output_type": "execute_result",
     "data": {
      "text/html": [
       "<div>\n",
       "<style scoped>\n",
       "    .dataframe tbody tr th:only-of-type {\n",
       "        vertical-align: middle;\n",
       "    }\n",
       "\n",
       "    .dataframe tbody tr th {\n",
       "        vertical-align: top;\n",
       "    }\n",
       "\n",
       "    .dataframe thead th {\n",
       "        text-align: right;\n",
       "    }\n",
       "</style>\n",
       "<table border=\"1\" class=\"dataframe\">\n",
       "  <thead>\n",
       "    <tr style=\"text-align: right;\">\n",
       "      <th></th>\n",
       "      <th>VendorID</th>\n",
       "      <th>VendorName</th>\n",
       "      <th>VendorAddress1</th>\n",
       "      <th>VendorAddress2</th>\n",
       "      <th>VendorCity</th>\n",
       "      <th>VendorState</th>\n",
       "      <th>VendorZipCode</th>\n",
       "      <th>VendorPhone</th>\n",
       "      <th>VendorContactLName</th>\n",
       "      <th>VendorContactFName</th>\n",
       "      <th>DefaultTermsID</th>\n",
       "      <th>DefaultAccountNo</th>\n",
       "    </tr>\n",
       "  </thead>\n",
       "  <tbody>\n",
       "    <tr>\n",
       "      <th>0</th>\n",
       "      <td>1</td>\n",
       "      <td>US Postal Service</td>\n",
       "      <td>Attn:  Supt. Window Services</td>\n",
       "      <td>PO Box 7005</td>\n",
       "      <td>Madison</td>\n",
       "      <td>WI</td>\n",
       "      <td>53707</td>\n",
       "      <td>(800) 555-1205</td>\n",
       "      <td>Alberto</td>\n",
       "      <td>Francesco</td>\n",
       "      <td>1</td>\n",
       "      <td>552</td>\n",
       "    </tr>\n",
       "    <tr>\n",
       "      <th>1</th>\n",
       "      <td>2</td>\n",
       "      <td>National Information Data Ctr</td>\n",
       "      <td>PO Box 96621</td>\n",
       "      <td>None</td>\n",
       "      <td>Washington</td>\n",
       "      <td>DC</td>\n",
       "      <td>20090</td>\n",
       "      <td>(301) 555-8950</td>\n",
       "      <td>Irvin</td>\n",
       "      <td>Ania</td>\n",
       "      <td>3</td>\n",
       "      <td>540</td>\n",
       "    </tr>\n",
       "    <tr>\n",
       "      <th>2</th>\n",
       "      <td>3</td>\n",
       "      <td>Register of Copyrights</td>\n",
       "      <td>Library Of Congress</td>\n",
       "      <td>None</td>\n",
       "      <td>Washington</td>\n",
       "      <td>DC</td>\n",
       "      <td>20559</td>\n",
       "      <td>None</td>\n",
       "      <td>Liana</td>\n",
       "      <td>Lukas</td>\n",
       "      <td>3</td>\n",
       "      <td>403</td>\n",
       "    </tr>\n",
       "    <tr>\n",
       "      <th>3</th>\n",
       "      <td>4</td>\n",
       "      <td>Jobtrak</td>\n",
       "      <td>1990 Westwood Blvd Ste 260</td>\n",
       "      <td>None</td>\n",
       "      <td>Los Angeles</td>\n",
       "      <td>CA</td>\n",
       "      <td>90025</td>\n",
       "      <td>(800) 555-8725</td>\n",
       "      <td>Quinn</td>\n",
       "      <td>Kenzie</td>\n",
       "      <td>3</td>\n",
       "      <td>572</td>\n",
       "    </tr>\n",
       "    <tr>\n",
       "      <th>4</th>\n",
       "      <td>5</td>\n",
       "      <td>Newbrige Book Clubs</td>\n",
       "      <td>3000 Cindel Drive</td>\n",
       "      <td>None</td>\n",
       "      <td>Washington</td>\n",
       "      <td>NJ</td>\n",
       "      <td>07882</td>\n",
       "      <td>(800) 555-9980</td>\n",
       "      <td>Marks</td>\n",
       "      <td>Michelle</td>\n",
       "      <td>4</td>\n",
       "      <td>394</td>\n",
       "    </tr>\n",
       "  </tbody>\n",
       "</table>\n",
       "</div>"
      ],
      "text/plain": [
       "   VendorID                     VendorName                VendorAddress1  \\\n",
       "0         1              US Postal Service  Attn:  Supt. Window Services   \n",
       "1         2  National Information Data Ctr                  PO Box 96621   \n",
       "2         3         Register of Copyrights           Library Of Congress   \n",
       "3         4                        Jobtrak    1990 Westwood Blvd Ste 260   \n",
       "4         5            Newbrige Book Clubs             3000 Cindel Drive   \n",
       "\n",
       "  VendorAddress2   VendorCity VendorState VendorZipCode     VendorPhone  \\\n",
       "0    PO Box 7005      Madison          WI         53707  (800) 555-1205   \n",
       "1           None   Washington          DC         20090  (301) 555-8950   \n",
       "2           None   Washington          DC         20559            None   \n",
       "3           None  Los Angeles          CA         90025  (800) 555-8725   \n",
       "4           None   Washington          NJ         07882  (800) 555-9980   \n",
       "\n",
       "  VendorContactLName VendorContactFName  DefaultTermsID  DefaultAccountNo  \n",
       "0            Alberto          Francesco               1               552  \n",
       "1              Irvin               Ania               3               540  \n",
       "2              Liana              Lukas               3               403  \n",
       "3              Quinn             Kenzie               3               572  \n",
       "4              Marks           Michelle               4               394  "
      ]
     },
     "metadata": {},
     "execution_count": 4
    }
   ],
   "metadata": {}
  },
  {
   "cell_type": "markdown",
   "source": [
    "Alternatively, if you're using a Jupyter notebook you can perform the query directly in the cell.  First, however, you need to make sure you have the ipython-sql package installed.  If you aren't sure, run `pip show ipython-sql` in your shell (Bash, PowerShell, Command Prompt, etc.) or run `!pip show ipython-sql` in a code cell in a Jupyter notebook.  Should you need to install it, all you need to do is run `pip install ipython-sql` in your shell or `!pip install ipython-sql` in a Jupyter notebook cell.\r\n",
    "\r\n",
    "Once ipython-sql is installed you can run queries in code cells using a magic command.  You can choose between making a query in a single line or using an entire code cell.  First, however, you need to load the SQL extension in a separate code cell and use the connection string we wrote earlier to establish a connection."
   ],
   "metadata": {}
  },
  {
   "cell_type": "code",
   "execution_count": 5,
   "source": [
    "%load_ext sql\r\n",
    "\r\n",
    "%sql mssql+pyodbc://MATT-PC/AP?trusted_connection=yes&driver=ODBC+Driver+17+for+SQL+Server"
   ],
   "outputs": [],
   "metadata": {}
  },
  {
   "cell_type": "markdown",
   "source": [
    "### Code Cell Queries\r\n",
    "Using code cell queries allows you to have queries that span multiple lines.  Using multiple lines when writing queries is usually preferable, since the added space allow you to organize your queries better and make them more readable.  If you've ever had to review old code, whether someone else's or your own, you know how much of a headache it can be if it isn't organized in a way that makes it clear what each block of code does.\r\n",
    "\r\n",
    "With the preamble out of the way, let's get onto the good stuff.  All you need to do to convert a code cell to a multi-line SQL query is put `%%sql` on the first line.  After that, type out your query and run the cell."
   ],
   "metadata": {}
  },
  {
   "cell_type": "code",
   "execution_count": 6,
   "source": [
    "%%sql\r\n",
    "\r\n",
    "SELECT TOP 5 VendorName, InvoiceTotal, InvoiceDate, (InvoiceTotal - PaymentTotal - CreditTotal) AS BalanceDue\r\n",
    "FROM Invoices JOIN Vendors\r\n",
    "    ON Invoices.VendorID = Vendors.VendorID\r\n",
    "ORDER BY (InvoiceTotal - PaymentTotal - CreditTotal) DESC;"
   ],
   "outputs": [
    {
     "output_type": "stream",
     "name": "stdout",
     "text": [
      " * mssql+pyodbc://MATT-PC/AP?driver=ODBC+Driver+17+for+SQL+Server&trusted_connection=yes\n",
      "Done.\n"
     ]
    },
    {
     "output_type": "execute_result",
     "data": {
      "text/html": [
       "<table>\n",
       "    <tr>\n",
       "        <th>VendorName</th>\n",
       "        <th>InvoiceTotal</th>\n",
       "        <th>InvoiceDate</th>\n",
       "        <th>BalanceDue</th>\n",
       "    </tr>\n",
       "    <tr>\n",
       "        <td>Malloy Lithographing Inc</td>\n",
       "        <td>20551.1800</td>\n",
       "        <td>2020-01-23</td>\n",
       "        <td>19351.1800</td>\n",
       "    </tr>\n",
       "    <tr>\n",
       "        <td>Malloy Lithographing Inc</td>\n",
       "        <td>10976.0600</td>\n",
       "        <td>2020-01-31</td>\n",
       "        <td>10976.0600</td>\n",
       "    </tr>\n",
       "    <tr>\n",
       "        <td>Ingram</td>\n",
       "        <td>579.4200</td>\n",
       "        <td>2020-01-21</td>\n",
       "        <td>579.4200</td>\n",
       "    </tr>\n",
       "    <tr>\n",
       "        <td>Ford Motor Credit Company</td>\n",
       "        <td>503.2000</td>\n",
       "        <td>2020-01-24</td>\n",
       "        <td>503.2000</td>\n",
       "    </tr>\n",
       "    <tr>\n",
       "        <td>Blue Cross</td>\n",
       "        <td>224.0000</td>\n",
       "        <td>2020-02-01</td>\n",
       "        <td>224.0000</td>\n",
       "    </tr>\n",
       "</table>"
      ],
      "text/plain": [
       "[('Malloy Lithographing Inc', Decimal('20551.1800'), datetime.date(2020, 1, 23), Decimal('19351.1800')),\n",
       " ('Malloy Lithographing Inc', Decimal('10976.0600'), datetime.date(2020, 1, 31), Decimal('10976.0600')),\n",
       " ('Ingram', Decimal('579.4200'), datetime.date(2020, 1, 21), Decimal('579.4200')),\n",
       " ('Ford Motor Credit Company', Decimal('503.2000'), datetime.date(2020, 1, 24), Decimal('503.2000')),\n",
       " ('Blue Cross', Decimal('224.0000'), datetime.date(2020, 2, 1), Decimal('224.0000'))]"
      ]
     },
     "metadata": {},
     "execution_count": 6
    }
   ],
   "metadata": {}
  },
  {
   "cell_type": "markdown",
   "source": [
    "This provides a viable alternative to using the IDEs that accompany each flavor of SQL.  Using Jupyter (or an IDE that supports .ipynb files like VS Code), you only have to learn the differences in syntax and commands between each flavor and not worry about learning how to use a new IDE.\r\n",
    "\r\n",
    "Futhermore, while this is a useful interface for performing queries, this can also be used as a testing bed for writing queries to use in creating DataFrames with `pd.read_sql()` so you can further manipulate the data."
   ],
   "metadata": {}
  },
  {
   "cell_type": "code",
   "execution_count": 15,
   "source": [
    "query = \"\"\"\r\n",
    "SELECT TOP 5 VendorName, InvoiceTotal, InvoiceDate, (InvoiceTotal - PaymentTotal - CreditTotal) AS BalanceDue\r\n",
    "FROM Invoices JOIN Vendors\r\n",
    "    ON Invoices.VendorID = Vendors.VendorID\r\n",
    "ORDER BY (InvoiceTotal - PaymentTotal - CreditTotal) DESC;\r\n",
    "\"\"\"\r\n",
    "\r\n",
    "pd.read_sql(query, conn)"
   ],
   "outputs": [
    {
     "output_type": "execute_result",
     "data": {
      "text/html": [
       "<div>\n",
       "<style scoped>\n",
       "    .dataframe tbody tr th:only-of-type {\n",
       "        vertical-align: middle;\n",
       "    }\n",
       "\n",
       "    .dataframe tbody tr th {\n",
       "        vertical-align: top;\n",
       "    }\n",
       "\n",
       "    .dataframe thead th {\n",
       "        text-align: right;\n",
       "    }\n",
       "</style>\n",
       "<table border=\"1\" class=\"dataframe\">\n",
       "  <thead>\n",
       "    <tr style=\"text-align: right;\">\n",
       "      <th></th>\n",
       "      <th>VendorName</th>\n",
       "      <th>InvoiceTotal</th>\n",
       "      <th>InvoiceDate</th>\n",
       "      <th>BalanceDue</th>\n",
       "    </tr>\n",
       "  </thead>\n",
       "  <tbody>\n",
       "    <tr>\n",
       "      <th>0</th>\n",
       "      <td>Malloy Lithographing Inc</td>\n",
       "      <td>20551.18</td>\n",
       "      <td>2012-03-23</td>\n",
       "      <td>19351.18</td>\n",
       "    </tr>\n",
       "    <tr>\n",
       "      <th>1</th>\n",
       "      <td>Malloy Lithographing Inc</td>\n",
       "      <td>10976.06</td>\n",
       "      <td>2012-03-31</td>\n",
       "      <td>10976.06</td>\n",
       "    </tr>\n",
       "    <tr>\n",
       "      <th>2</th>\n",
       "      <td>Ingram</td>\n",
       "      <td>579.42</td>\n",
       "      <td>2012-03-21</td>\n",
       "      <td>579.42</td>\n",
       "    </tr>\n",
       "    <tr>\n",
       "      <th>3</th>\n",
       "      <td>Ford Motor Credit Company</td>\n",
       "      <td>503.20</td>\n",
       "      <td>2012-03-24</td>\n",
       "      <td>503.20</td>\n",
       "    </tr>\n",
       "    <tr>\n",
       "      <th>4</th>\n",
       "      <td>Blue Cross</td>\n",
       "      <td>224.00</td>\n",
       "      <td>2012-04-01</td>\n",
       "      <td>224.00</td>\n",
       "    </tr>\n",
       "  </tbody>\n",
       "</table>\n",
       "</div>"
      ],
      "text/plain": [
       "                  VendorName  InvoiceTotal InvoiceDate  BalanceDue\n",
       "0   Malloy Lithographing Inc      20551.18  2012-03-23    19351.18\n",
       "1   Malloy Lithographing Inc      10976.06  2012-03-31    10976.06\n",
       "2                     Ingram        579.42  2012-03-21      579.42\n",
       "3  Ford Motor Credit Company        503.20  2012-03-24      503.20\n",
       "4                 Blue Cross        224.00  2012-04-01      224.00"
      ]
     },
     "metadata": {},
     "execution_count": 15
    }
   ],
   "metadata": {}
  },
  {
   "cell_type": "markdown",
   "source": [
    "Don't forget that DataFrames can be saved as CSVs and a variety of other useful formats.  This allows you to continue working with that DataFrame, use it in another program such as Tableau, or share it with others."
   ],
   "metadata": {}
  },
  {
   "cell_type": "markdown",
   "source": [
    "### Single Cell Queries\r\n",
    "Beyond using a code cell for "
   ],
   "metadata": {}
  },
  {
   "cell_type": "markdown",
   "source": [
    "# Still to add!\r\n",
    "* Single line queries\r\n",
    "    * Storing results in variable\r\n",
    "* Links to other useful articles\r\n",
    "\r\n",
    "\r\n",
    "# Next SQL + Python article\r\n",
    "* SQL data types\r\n",
    "* Creating databases and tables\r\n",
    "* Inserting data into tables\r\n",
    "* DROP IF EXISTS\r\n",
    "\r\n",
    "\r\n",
    "# Intermediate SQL Article\r\n",
    "* Aliases\r\n",
    "* GROUP BY & HAVING\r\n",
    "* Joins\r\n",
    "* CTEs\r\n",
    "* Partition\r\n",
    "* Roll-Up, etc.\r\n",
    "* Subqueries\r\n",
    "* Cursors\r\n",
    "* Views"
   ],
   "metadata": {}
  }
 ],
 "metadata": {
  "kernelspec": {
   "name": "python3",
   "display_name": "Python 3.9.4 64-bit"
  },
  "language_info": {
   "codemirror_mode": {
    "name": "ipython",
    "version": 3
   },
   "file_extension": ".py",
   "mimetype": "text/x-python",
   "name": "python",
   "nbconvert_exporter": "python",
   "pygments_lexer": "ipython3",
   "version": "3.9.4"
  },
  "interpreter": {
   "hash": "7018d4c494a8eebfde58ec1a75bd8173b1cda5fd008cc483aefd350c0b2a95d4"
  }
 },
 "nbformat": 4,
 "nbformat_minor": 4
}